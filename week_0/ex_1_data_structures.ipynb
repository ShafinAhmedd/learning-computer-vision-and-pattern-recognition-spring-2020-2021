{
 "cells": [
  {
   "cell_type": "markdown",
   "metadata": {},
   "source": [
    "# Data Structures in Python\n",
    "    - built-in Data types\n",
    "        * list\n",
    "        * dictionary\n",
    "        * set\n",
    "    - User defined data types\n",
    "        * stack\n",
    "        * queue\n",
    "        * tree\n",
    "        * graph\n",
    "        * linked list\n",
    "        * hashmap"
   ]
  },
  {
   "cell_type": "markdown",
   "metadata": {},
   "source": [
    "# List\n",
    "    - Stores a sequence of items\n",
    "    - can contain differents types of data\n",
    "    - list are mutable\n",
    "    - use sqare brackets [] to create list"
   ]
  },
  {
   "cell_type": "code",
   "execution_count": 2,
   "metadata": {},
   "outputs": [
    {
     "name": "stdout",
     "output_type": "stream",
     "text": [
      "['C', 'C++', 'JAVA', 'C Sharp']\n"
     ]
    }
   ],
   "source": [
    "language_courses = ['C','C++', 'JAVA', 'C Sharp']\n",
    "print(language_courses)"
   ]
  },
  {
   "cell_type": "code",
   "execution_count": 6,
   "metadata": {},
   "outputs": [
    {
     "name": "stdout",
     "output_type": "stream",
     "text": [
      "C\n"
     ]
    }
   ],
   "source": [
    "print(language_courses[0])"
   ]
  },
  {
   "cell_type": "code",
   "execution_count": 7,
   "metadata": {},
   "outputs": [
    {
     "name": "stdout",
     "output_type": "stream",
     "text": [
      "C Sharp\n"
     ]
    }
   ],
   "source": [
    "print(language_courses[3])"
   ]
  },
  {
   "cell_type": "code",
   "execution_count": 8,
   "metadata": {},
   "outputs": [
    {
     "name": "stdout",
     "output_type": "stream",
     "text": [
      "C Sharp\n"
     ]
    }
   ],
   "source": [
    "print(language_courses[-1]) #negetive indexing"
   ]
  },
  {
   "cell_type": "code",
   "execution_count": 10,
   "metadata": {},
   "outputs": [
    {
     "name": "stdout",
     "output_type": "stream",
     "text": [
      "JAVA\n"
     ]
    }
   ],
   "source": [
    "print(language_courses[-2])"
   ]
  },
  {
   "cell_type": "code",
   "execution_count": 12,
   "metadata": {},
   "outputs": [
    {
     "name": "stdout",
     "output_type": "stream",
     "text": [
      "C\n",
      "C++\n",
      "JAVA\n",
      "C Sharp\n"
     ]
    }
   ],
   "source": [
    "for c in language_courses:\n",
    "    print(c)"
   ]
  },
  {
   "cell_type": "code",
   "execution_count": 13,
   "metadata": {},
   "outputs": [
    {
     "name": "stdout",
     "output_type": "stream",
     "text": [
      "0 C\n",
      "1 C++\n",
      "2 JAVA\n",
      "3 C Sharp\n"
     ]
    }
   ],
   "source": [
    "for i,c in enumerate(language_courses):\n",
    "    print(i,c)"
   ]
  },
  {
   "cell_type": "code",
   "execution_count": 17,
   "metadata": {},
   "outputs": [
    {
     "name": "stdout",
     "output_type": "stream",
     "text": [
      "[1, 4, 9, 16, 25]\n"
     ]
    }
   ],
   "source": [
    "#should avoid\n",
    "nums = [1,2,3,4,5]\n",
    "squares = []\n",
    "for c in nums:\n",
    "    c=c*c\n",
    "    squares.append(c);\n",
    "print(squares)"
   ]
  },
  {
   "cell_type": "code",
   "execution_count": 21,
   "metadata": {},
   "outputs": [
    {
     "name": "stdout",
     "output_type": "stream",
     "text": [
      "[1, 4, 9, 16, 25]\n"
     ]
    }
   ],
   "source": [
    "#should avoid\n",
    "nums = [1,2,3,4,5]\n",
    "squares = []\n",
    "for c in nums:\n",
    "    squares.append(c**2)\n",
    "print(squares)"
   ]
  },
  {
   "cell_type": "code",
   "execution_count": 27,
   "metadata": {},
   "outputs": [
    {
     "name": "stdout",
     "output_type": "stream",
     "text": [
      "[1, 2, 3, 4, 5]\n"
     ]
    }
   ],
   "source": [
    "#list comprehencion\n",
    "nums = [1,2,3,4,5]\n",
    "nums_copy = [a for a in nums]\n",
    "print(nums_copy)"
   ]
  },
  {
   "cell_type": "code",
   "execution_count": 28,
   "metadata": {},
   "outputs": [
    {
     "name": "stdout",
     "output_type": "stream",
     "text": [
      "[1, 4, 9, 16, 25]\n"
     ]
    }
   ],
   "source": [
    "sq = [a ** 2 for a in nums]\n",
    "print(sq)"
   ]
  },
  {
   "cell_type": "code",
   "execution_count": 30,
   "metadata": {},
   "outputs": [
    {
     "name": "stdout",
     "output_type": "stream",
     "text": [
      "[4, 16]\n"
     ]
    }
   ],
   "source": [
    "even_sq = [a**2 for a in nums if a%2 == 0]\n",
    "print(even_sq)"
   ]
  },
  {
   "cell_type": "code",
   "execution_count": 32,
   "metadata": {},
   "outputs": [
    {
     "name": "stdout",
     "output_type": "stream",
     "text": [
      "['C', 'C++', 'JAVA', 'C Sharp']\n"
     ]
    }
   ],
   "source": [
    "print(language_courses)"
   ]
  },
  {
   "cell_type": "code",
   "execution_count": 37,
   "metadata": {},
   "outputs": [
    {
     "name": "stdout",
     "output_type": "stream",
     "text": [
      "['C', 'C++', 'JAVA', 'C#', 'Python']\n"
     ]
    }
   ],
   "source": [
    "language_courses[3]='C#'\n",
    "print(language_courses)"
   ]
  },
  {
   "cell_type": "code",
   "execution_count": 36,
   "metadata": {},
   "outputs": [
    {
     "name": "stdout",
     "output_type": "stream",
     "text": [
      "['C', 'C++', 'JAVA', 'C Sharp', 'Python']\n"
     ]
    }
   ],
   "source": [
    "#append() -> insert new item to the list\n",
    "language_courses.append('Python')\n",
    "print(language_courses)"
   ]
  },
  {
   "cell_type": "code",
   "execution_count": 39,
   "metadata": {},
   "outputs": [
    {
     "name": "stdout",
     "output_type": "stream",
     "text": [
      "['C', 'C++', 'JAVA', 'JS', 'C#', 'Python']\n"
     ]
    }
   ],
   "source": [
    "language_courses.insert(3, 'JS')\n",
    "print(language_courses)"
   ]
  },
  {
   "cell_type": "code",
   "execution_count": 40,
   "metadata": {},
   "outputs": [
    {
     "name": "stdout",
     "output_type": "stream",
     "text": [
      "['C', 'C++', 'JAVA', 'JS', 'C#', 'PHP', 'Python']\n"
     ]
    }
   ],
   "source": [
    "language_courses.insert(5, 'PHP')\n",
    "print(language_courses)"
   ]
  },
  {
   "cell_type": "code",
   "execution_count": 42,
   "metadata": {},
   "outputs": [
    {
     "name": "stdout",
     "output_type": "stream",
     "text": [
      "['C', 'C++', 'JAVA', 'JS', 'C#', 'PHP', 'Python', 'Data Structure', 'Algo', 'AI']\n"
     ]
    }
   ],
   "source": [
    "algo_courses = ['Data Structure', 'Algo', 'AI']\n",
    "courses = language_courses+algo_courses\n",
    "print(courses)"
   ]
  },
  {
   "cell_type": "code",
   "execution_count": 43,
   "metadata": {},
   "outputs": [
    {
     "name": "stdout",
     "output_type": "stream",
     "text": [
      "['C', 'C++', 'JAVA', 'JS', 'C#', 'PHP', 'Python', 'Data Structure', 'Algo', 'AI', 'abc']\n"
     ]
    }
   ],
   "source": [
    "courses.extend(['abc'])\n",
    "print(courses)"
   ]
  },
  {
   "cell_type": "code",
   "execution_count": 44,
   "metadata": {},
   "outputs": [
    {
     "name": "stdout",
     "output_type": "stream",
     "text": [
      "['C', 'C++', 'JAVA', 'JS', 'C#', 'PHP', 'Python', 'Data Structure', 'Algo', 'AI', 'abc', 'a', 'b', 'c']\n"
     ]
    }
   ],
   "source": [
    "courses.extend('abc')\n",
    "print(courses)"
   ]
  },
  {
   "cell_type": "code",
   "execution_count": 45,
   "metadata": {},
   "outputs": [
    {
     "name": "stdout",
     "output_type": "stream",
     "text": [
      "c\n",
      "['C', 'C++', 'JAVA', 'JS', 'C#', 'PHP', 'Python', 'Data Structure', 'Algo', 'AI', 'abc', 'a', 'b']\n"
     ]
    }
   ],
   "source": [
    "popped_item = courses.pop() #remove and returns the last element of the list\n",
    "print(popped_item)\n",
    "print(courses)"
   ]
  },
  {
   "cell_type": "code",
   "execution_count": 46,
   "metadata": {},
   "outputs": [
    {
     "name": "stdout",
     "output_type": "stream",
     "text": [
      "b\n",
      "['C', 'C++', 'JAVA', 'JS', 'C#', 'PHP', 'Python', 'Data Structure', 'Algo', 'AI', 'abc', 'a']\n"
     ]
    }
   ],
   "source": [
    "popped_item = courses.pop() #remove and returns the last element of the list\n",
    "print(popped_item)\n",
    "print(courses)"
   ]
  },
  {
   "cell_type": "code",
   "execution_count": 47,
   "metadata": {},
   "outputs": [
    {
     "name": "stdout",
     "output_type": "stream",
     "text": [
      "abc\n",
      "['C', 'C++', 'JAVA', 'JS', 'C#', 'PHP', 'Python', 'Data Structure', 'Algo', 'AI', 'a']\n"
     ]
    }
   ],
   "source": [
    "popped_item = courses.pop(10) #remove and returns the last element of the list\n",
    "print(popped_item)\n",
    "print(courses)"
   ]
  },
  {
   "cell_type": "code",
   "execution_count": 48,
   "metadata": {},
   "outputs": [
    {
     "name": "stdout",
     "output_type": "stream",
     "text": [
      "a\n",
      "['C', 'C++', 'JAVA', 'JS', 'C#', 'PHP', 'Python', 'Data Structure', 'Algo', 'AI']\n"
     ]
    }
   ],
   "source": [
    "popped_item = courses.pop(-1) #remove and returns the last element of the list\n",
    "print(popped_item)\n",
    "print(courses)"
   ]
  },
  {
   "cell_type": "code",
   "execution_count": 49,
   "metadata": {},
   "outputs": [],
   "source": [
    "# remove() -> remove an item by value\n",
    "# del()    -> remove items by index or slice\n",
    "# clear()  -> remove all items\n",
    "# list comprehension to remove multiple items that meet some condition"
   ]
  },
  {
   "cell_type": "code",
   "execution_count": 50,
   "metadata": {},
   "outputs": [
    {
     "name": "stdout",
     "output_type": "stream",
     "text": [
      "['C', 'C++', 'JAVA', 'JS', 'C#', 'PHP', 'Python', 'Data Structure', 'Algo', 'AI']\n"
     ]
    }
   ],
   "source": [
    "print(courses)"
   ]
  },
  {
   "cell_type": "code",
   "execution_count": 51,
   "metadata": {},
   "outputs": [
    {
     "name": "stdout",
     "output_type": "stream",
     "text": [
      "['C', 'C++']\n"
     ]
    }
   ],
   "source": [
    "print(courses[:2])"
   ]
  },
  {
   "cell_type": "code",
   "execution_count": 53,
   "metadata": {},
   "outputs": [
    {
     "name": "stdout",
     "output_type": "stream",
     "text": [
      "['C', 'C++', 'JAVA']\n"
     ]
    }
   ],
   "source": [
    "print(courses[0:3]) # [ start (inclusive) : end (exclusive)]"
   ]
  },
  {
   "cell_type": "code",
   "execution_count": 54,
   "metadata": {},
   "outputs": [
    {
     "name": "stdout",
     "output_type": "stream",
     "text": [
      "['C', 'C++', 'JAVA', 'JS', 'C#']\n"
     ]
    }
   ],
   "source": [
    "print(courses[:5])"
   ]
  },
  {
   "cell_type": "code",
   "execution_count": 55,
   "metadata": {},
   "outputs": [
    {
     "name": "stdout",
     "output_type": "stream",
     "text": [
      "['C', 'C++', 'JAVA', 'JS', 'C#', 'PHP', 'Python', 'Data Structure', 'Algo']\n"
     ]
    }
   ],
   "source": [
    "print(courses[:-1])"
   ]
  },
  {
   "cell_type": "code",
   "execution_count": 56,
   "metadata": {},
   "outputs": [
    {
     "name": "stdout",
     "output_type": "stream",
     "text": [
      "['AI']\n"
     ]
    }
   ],
   "source": [
    "print(courses[-1:])"
   ]
  },
  {
   "cell_type": "code",
   "execution_count": 62,
   "metadata": {},
   "outputs": [
    {
     "name": "stdout",
     "output_type": "stream",
     "text": [
      "['JAVA', 'JS', 'C#', 'PHP', 'Python', 'Data Structure']\n"
     ]
    }
   ],
   "source": [
    "print(courses[2:-2])"
   ]
  },
  {
   "cell_type": "code",
   "execution_count": 64,
   "metadata": {},
   "outputs": [
    {
     "name": "stdout",
     "output_type": "stream",
     "text": [
      "['abc', 1, 'x', 3.2]\n"
     ]
    }
   ],
   "source": [
    "listOfMixedTypes = ['abc', 1, 'x', 3.2]\n",
    "print(listOfMixedTypes)"
   ]
  },
  {
   "cell_type": "code",
   "execution_count": 65,
   "metadata": {},
   "outputs": [
    {
     "name": "stdout",
     "output_type": "stream",
     "text": [
      "[['a', 'b', 'c'], [1, 2, 3, 4], ['one', 'two', 'three']]\n"
     ]
    }
   ],
   "source": [
    "listOfLists = [\n",
    "    ['a', 'b', 'c'],\n",
    "    [1, 2, 3, 4],\n",
    "    ['one', 'two', 'three']\n",
    "]\n",
    "print(listOfLists)"
   ]
  },
  {
   "cell_type": "code",
   "execution_count": 66,
   "metadata": {},
   "outputs": [
    {
     "name": "stdout",
     "output_type": "stream",
     "text": [
      "2\n"
     ]
    }
   ],
   "source": [
    "print(listOfLists[1][1])"
   ]
  },
  {
   "cell_type": "code",
   "execution_count": 67,
   "metadata": {},
   "outputs": [
    {
     "name": "stdout",
     "output_type": "stream",
     "text": [
      "two\n"
     ]
    }
   ],
   "source": [
    "print(listOfLists[2][1])"
   ]
  },
  {
   "cell_type": "code",
   "execution_count": 69,
   "metadata": {},
   "outputs": [
    {
     "name": "stdout",
     "output_type": "stream",
     "text": [
      "[['a', 'b', 'c'], [1, 2, 3, 4]]\n"
     ]
    }
   ],
   "source": [
    "listOfLists.pop()\n",
    "print(listOfLists)"
   ]
  },
  {
   "cell_type": "code",
   "execution_count": 70,
   "metadata": {},
   "outputs": [
    {
     "name": "stdout",
     "output_type": "stream",
     "text": [
      "['a', 'b', 'c']\n"
     ]
    }
   ],
   "source": [
    "x = ['a', 'b', 'c']\n",
    "print(x)"
   ]
  },
  {
   "cell_type": "code",
   "execution_count": 71,
   "metadata": {},
   "outputs": [
    {
     "name": "stdout",
     "output_type": "stream",
     "text": [
      "['c', 'b', 'a']\n"
     ]
    }
   ],
   "source": [
    "x.reverse()\n",
    "print(x)"
   ]
  },
  {
   "cell_type": "code",
   "execution_count": 72,
   "metadata": {},
   "outputs": [
    {
     "name": "stdout",
     "output_type": "stream",
     "text": [
      "3\n"
     ]
    }
   ],
   "source": [
    "print(len(x))"
   ]
  },
  {
   "cell_type": "code",
   "execution_count": null,
   "metadata": {},
   "outputs": [],
   "source": []
  }
 ],
 "metadata": {
  "kernelspec": {
   "display_name": "Python 3",
   "language": "python",
   "name": "python3"
  },
  "language_info": {
   "codemirror_mode": {
    "name": "ipython",
    "version": 3
   },
   "file_extension": ".py",
   "mimetype": "text/x-python",
   "name": "python",
   "nbconvert_exporter": "python",
   "pygments_lexer": "ipython3",
   "version": "3.8.5"
  }
 },
 "nbformat": 4,
 "nbformat_minor": 4
}
