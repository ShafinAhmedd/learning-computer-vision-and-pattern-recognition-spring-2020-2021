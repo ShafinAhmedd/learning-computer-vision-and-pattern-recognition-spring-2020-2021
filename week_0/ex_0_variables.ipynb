{
 "cells": [
  {
   "cell_type": "markdown",
   "metadata": {},
   "source": [
    "# Variables in Python"
   ]
  },
  {
   "cell_type": "code",
   "execution_count": 7,
   "metadata": {},
   "outputs": [
    {
     "name": "stdout",
     "output_type": "stream",
     "text": [
      "5\n",
      "<class 'int'>\n",
      "6\n",
      "4\n",
      "10\n",
      "2.5\n",
      "25\n",
      "2\n"
     ]
    }
   ],
   "source": [
    "a=5\n",
    "print(a)\n",
    "print(type(a))\n",
    "print(a+1)\n",
    "print(a-1)\n",
    "print(a*2)\n",
    "print(a/2)\n",
    "print(a**2) #Exponentiation\n",
    "print(a//2)"
   ]
  },
  {
   "cell_type": "code",
   "execution_count": 9,
   "metadata": {},
   "outputs": [
    {
     "name": "stdout",
     "output_type": "stream",
     "text": [
      "3.2 <class 'float'>\n"
     ]
    }
   ],
   "source": [
    "b=3.2\n",
    "print(b,type(b))"
   ]
  },
  {
   "cell_type": "code",
   "execution_count": 10,
   "metadata": {},
   "outputs": [
    {
     "name": "stdout",
     "output_type": "stream",
     "text": [
      "<class 'bool'>\n"
     ]
    }
   ],
   "source": [
    "t=True\n",
    "f=False\n",
    "print(type(t))"
   ]
  },
  {
   "cell_type": "code",
   "execution_count": 15,
   "metadata": {},
   "outputs": [
    {
     "name": "stdout",
     "output_type": "stream",
     "text": [
      "False\n",
      "True\n",
      "False\n",
      "True\n"
     ]
    }
   ],
   "source": [
    "print(t and f) #Logical AND operation\n",
    "print(t or f) #Logical OR operation\n",
    "print(not t) #Logical NOR operation\n",
    "print(t!=f) #Logical XOR operation"
   ]
  },
  {
   "cell_type": "code",
   "execution_count": 23,
   "metadata": {},
   "outputs": [
    {
     "name": "stdout",
     "output_type": "stream",
     "text": [
      "hello\n",
      "5\n",
      "hello world\n",
      "hello world from the year of 2021.\n"
     ]
    }
   ],
   "source": [
    "h='hello'\n",
    "w='world' #does not matter '' or \"\"\n",
    "print(h)\n",
    "print(len(h))\n",
    "hw=h+' '+w #string concatination\n",
    "print(hw)\n",
    "hw21='%s %s from the year of %d.' % (h,w,2021)\n",
    "print(hw21)"
   ]
  },
  {
   "cell_type": "code",
   "execution_count": 28,
   "metadata": {},
   "outputs": [
    {
     "name": "stdout",
     "output_type": "stream",
     "text": [
      "hello\n",
      "Hello\n",
      "HELLO\n",
      "heppo\n"
     ]
    }
   ],
   "source": [
    "print(h)\n",
    "print(h.capitalize())\n",
    "print(h.upper())\n",
    "print(h.replace('l','p'))"
   ]
  }
 ],
 "metadata": {
  "kernelspec": {
   "display_name": "Python 3",
   "language": "python",
   "name": "python3"
  },
  "language_info": {
   "codemirror_mode": {
    "name": "ipython",
    "version": 3
   },
   "file_extension": ".py",
   "mimetype": "text/x-python",
   "name": "python",
   "nbconvert_exporter": "python",
   "pygments_lexer": "ipython3",
   "version": "3.8.5"
  }
 },
 "nbformat": 4,
 "nbformat_minor": 4
}
